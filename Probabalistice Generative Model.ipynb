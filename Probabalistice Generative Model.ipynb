{
 "cells": [
  {
   "cell_type": "markdown",
   "metadata": {},
   "source": [
    "# Simple python code for Generative Model"
   ]
  },
  {
   "cell_type": "code",
   "execution_count": 26,
   "metadata": {},
   "outputs": [
    {
     "data": {
      "text/plain": [
       "array([('', 0.18 , 0.18 ), ('e', 0.1  , 0.28 ), ('t', 0.08 , 0.36 ),\n",
       "       ('a', 0.07 , 0.43 ), ('o', 0.06 , 0.49 ), ('n', 0.06 , 0.55 ),\n",
       "       ('i', 0.06 , 0.61 ), ('s', 0.05 , 0.66 ), ('r', 0.05 , 0.71 ),\n",
       "       ('h', 0.04 , 0.75 ), ('l', 0.03 , 0.78 ), ('d', 0.03 , 0.81 ),\n",
       "       ('u', 0.02 , 0.83 ), ('c', 0.02 , 0.85 ), ('m', 0.02 , 0.87 ),\n",
       "       ('f', 0.02 , 0.89 ), ('w', 0.02 , 0.91 ), ('g', 0.02 , 0.93 ),\n",
       "       ('p', 0.02 , 0.95 ), ('y', 0.01 , 0.96 ), ('b', 0.01 , 0.97 ),\n",
       "       ('v', 0.01 , 0.98 ), ('k', 0.01 , 0.99 ), ('x', 0.006, 0.996),\n",
       "       ('j', 0.002, 0.998), ('q', 0.001, 0.999), ('z', 0.001, 1.   )],\n",
       "      dtype=[('Char', '<U5'), ('Prob', '<f2'), ('Cumsum', '<f2')])"
      ]
     },
     "execution_count": 26,
     "metadata": {},
     "output_type": "execute_result"
    }
   ],
   "source": [
    "import matplotlib.pyplot as plt \n",
    "import numpy as np\n",
    "from collections import Counter\n",
    "import os \n",
    "import re \n",
    "\n",
    "#reading file \n",
    "given_Data = np.genfromtxt('probability.csv', delimiter=',',dtype=[('Char', '|S14'), ('Prob', '<f8')])\n",
    "\n",
    "cumsum_1=np.cumsum(given_Data['Prob'])\n",
    "given_Data=np.array(list(zip(given_Data['Char'],given_Data['Prob'],cumsum_1)),\n",
    "                    dtype=[('Char', '<U5'),('Prob', np.float16),('Cumsum',np.float16)])\n",
    "given_Data"
   ]
  },
  {
   "cell_type": "markdown",
   "metadata": {},
   "source": [
    "# Create a data frame of character frequency for the given corpus. Count the characters and spaces in the stories dump."
   ]
  },
  {
   "cell_type": "code",
   "execution_count": 30,
   "metadata": {},
   "outputs": [
    {
     "data": {
      "text/plain": [
       "(array([('t',  6498, 7.6599e-02, 0.0766), ('h',  4976, 5.8655e-02, 0.1353),\n",
       "        ('e',  8846, 1.0431e-01, 0.2396), (' ', 16016, 1.8884e-01, 0.4285),\n",
       "        ('l',  2853, 3.3630e-02, 0.462 ), ('o',  4913, 5.7922e-02, 0.52  ),\n",
       "        ('n',  4641, 5.4718e-02, 0.5747), ('g',  1544, 1.8204e-02, 0.593 ),\n",
       "        ('j',   112, 1.3208e-03, 0.594 ), ('u',  1753, 2.0660e-02, 0.6147),\n",
       "        ('w',  1773, 2.0905e-02, 0.6357), ('i',  4441, 5.2368e-02, 0.688 ),\n",
       "        ('f',  1489, 1.7548e-02, 0.7056), ('a',  5633, 6.6406e-02, 0.772 ),\n",
       "        ('d',  3408, 4.0192e-02, 0.8125), ('b',  1090, 1.2848e-02, 0.825 ),\n",
       "        ('y',  1200, 1.4145e-02, 0.8394), ('v',   608, 7.1678e-03, 0.8467),\n",
       "        ('p',  1124, 1.3252e-02, 0.86  ), ('r',  3917, 4.6173e-02, 0.906 ),\n",
       "        ('k',   576, 6.7902e-03, 0.9126), ('s',  4168, 4.9133e-02, 0.962 ),\n",
       "        ('m',  1551, 1.8280e-02, 0.98  ), ('c',  1534, 1.8082e-02, 0.998 ),\n",
       "        ('x',    54, 6.3658e-04, 0.999 ), ('z',    34, 4.0078e-04, 0.999 ),\n",
       "        ('q',    47, 5.5408e-04, 1.    ), ('8',     5, 5.8949e-05, 1.    ),\n",
       "        ('3',     2, 2.3603e-05, 1.    ), ('0',     5, 5.8949e-05, 1.    ),\n",
       "        ('2',     1, 1.1802e-05, 1.    ), ('1',     3, 3.5346e-05, 1.    ),\n",
       "        ('7',     4, 4.7147e-05, 1.    )],\n",
       "       dtype=[('Char', '<U5'), ('Freq', '<i8'), ('Prob', '<f2'), ('Cumsum', '<f2')]),\n",
       " 1.0)"
      ]
     },
     "execution_count": 30,
     "metadata": {},
     "output_type": "execute_result"
    }
   ],
   "source": [
    "#accessing files from folder and reading characters count\n",
    "char=Counter()\n",
    "word_Stories=Counter()\n",
    "for file in os.listdir('Stories/'):\n",
    "#         print(file)\n",
    "        f=open('Stories/'+file,'r')\n",
    "        content=f.read()\n",
    "        c= content.lower()\n",
    "        c= re.sub(r\"[^a-z0-9 ]\",\"\",c)\n",
    "        char += Counter(c)\n",
    "        w = re.findall('\\w+',content.lower())\n",
    "        word_Stories += Counter(w)\n",
    "\n",
    "char_Array = np.array(list(char.items()),dtype=[('Char', '<U5'), ('Freq', '<i8')])\n",
    "\n",
    "#calculating probability \n",
    "prob=np.array(list(char_Array['Freq']/np.sum(char_Array['Freq'])))\n",
    "\n",
    "#calculating cumsum of the probability\n",
    "cumsum=np.cumsum(prob)\n",
    "\n",
    "#creating dataframe \n",
    "char_Array=np.array(list(zip(char_Array['Char'],char_Array['Freq'],prob,cumsum)),\n",
    "                    dtype=[('Char', '<U5'), ('Freq', '<i8'),('Prob', np.float16),('Cumsum',np.float16)])\n",
    "char_Array"
   ]
  },
  {
   "cell_type": "markdown",
   "metadata": {},
   "source": [
    "## Use the Probabilistic Generative model to generate a text of 200 words. To generate so, use the distribution of frequency from the data frame you created for Task 1"
   ]
  },
  {
   "cell_type": "code",
   "execution_count": 33,
   "metadata": {},
   "outputs": [
    {
     "name": "stdout",
     "output_type": "stream",
     "text": [
      "odpo dhos ottnadttkiseorps fe ohot att otoidlolwm ch eptfaotesldud eaaeu ybe   httsefearhrbassted scn spoeerttoto rwchhhafteasonsrrdeekta  wuo  slslohnd td lnn hlhruaig ilekioocrehefnsnrnt   gsea   pighentti t a nttctmr eahn trkohd mnohesd iiato r k bawoi pgstt cfcnvdasrnnlgnarhlepe  iratrlyrralst  \n"
     ]
    }
   ],
   "source": [
    "from random import random\n",
    "\n",
    "def Word_generator(df,count):\n",
    "    text=''\n",
    "    for i in range(count):\n",
    "        #generating random number \n",
    "        r= random()\n",
    "        char_prob=np.min(df[df['Cumsum']>=r]['Cumsum'])\n",
    "        x=df[df['Cumsum']==char_prob]['Char'][0]\n",
    "        if x=='':\n",
    "            text+=' '\n",
    "            continue\n",
    "        else:\n",
    "            text+=df[df['Cumsum']==char_prob]['Char'][0]\n",
    "        \n",
    "    print(text)\n",
    "    return text\n",
    "\n",
    "f=open('generated_words.txt','w+')\n",
    "\n",
    "#generating text \n",
    "text=Word_generator(char_Array,200)\n",
    "\n",
    "#writing in the file \n",
    "f.write(text)\n",
    "f.close()"
   ]
  },
  {
   "cell_type": "markdown",
   "metadata": {},
   "source": [
    "## use the distribution of frequency from the csv file provided"
   ]
  },
  {
   "cell_type": "code",
   "execution_count": 34,
   "metadata": {},
   "outputs": [
    {
     "name": "stdout",
     "output_type": "stream",
     "text": [
      "ie  adbe  nacatr stolmkes nfrciro  enhsoe m gaaadfm aeoc   i sk oaony testannutash ngfu nmr grekyctietaetivscsi gc erthaitec alotoaswnxdddoneaa  osnaef weogveu dwhaethcrfrectstn  rnnrjng ehmipsg hetderrondoa nkhg bcw a acccvo eh aosortuahtykkenaoe tti nloititodndnnq mtpu adpbes leoeiik   eucnvme bxo\n"
     ]
    }
   ],
   "source": [
    "f=open('generated_words_given.txt','w+')\n",
    "\n",
    "#generating text \n",
    "text_given=Word_generator(given_Data,200)\n",
    "\n",
    "#writing in the file \n",
    "f.write(text_given)\n",
    "f.close()"
   ]
  },
  {
   "cell_type": "markdown",
   "metadata": {},
   "source": [
    "# Plot the word rank frequency diagram and CDF"
   ]
  },
  {
   "cell_type": "code",
   "execution_count": 35,
   "metadata": {},
   "outputs": [
    {
     "data": {
      "text/plain": [
       "Text(0.5, 1.0, 'Probability distribution of stories')"
      ]
     },
     "execution_count": 35,
     "metadata": {},
     "output_type": "execute_result"
    },
    {
     "data": {
      "image/png": "[encoded data removed]",
      "text/plain": [
       "<Figure size 432x288 with 1 Axes>"
      ]
     },
     "metadata": {
      "needs_background": "light"
     },
     "output_type": "display_data"
    }
   ],
   "source": [
    "#Plot the probability distribution of word lengths of all 3 data sets(Stories and 2 generated text).\n",
    "word_Stories\n",
    "# word_Array = np.array(list(word_Stories.items()),dtype=[('Words', '<U5'), ('Freq', '<i8')])\n",
    "\n",
    "word_Length=np.array(list(map(lambda x: len(x),word_Stories)))\n",
    "word_Len_Freq=np.array(np.unique(word_Length, return_counts=True)).T\n",
    "word_Len_prob=word_Len_Freq[:,1]/np.sum(word_Len_Freq[:,1])\n",
    "word_Len_prob,word_Len_Freq[:,0]\n",
    "#probabilty distribution of stories \n",
    "plt.bar(word_Len_Freq[:,0],word_Len_prob,color='black')\n",
    "plt.xlabel(\"Word Length(x)\")\n",
    "plt.ylabel(\"Probability,P(x)\")\n",
    "plt.title(\"Probability distribution of stories\")"
   ]
  },
  {
   "cell_type": "code",
   "execution_count": 37,
   "metadata": {
    "scrolled": true
   },
   "outputs": [
    {
     "data": {
      "image/png": "[encoded data removed]",
      "text/plain": [
       "<Figure size 432x288 with 1 Axes>"
      ]
     },
     "metadata": {
      "needs_background": "light"
     },
     "output_type": "display_data"
    }
   ],
   "source": [
    "#for generated text from stories\n",
    "def word_list(filename):\n",
    "    f=open(filename,'r')\n",
    "    content=f.read()\n",
    "    w = re.findall('\\w+',content.lower())\n",
    "#     print(w)\n",
    "    words = np.array(w)\n",
    "    return words\n",
    "def probability_distribution(words,Title):\n",
    "    word_Length=np.array(list(map(lambda x: len(x),words)))\n",
    "    word_Len_Freq=np.array(np.unique(word_Length, return_counts=True)).T\n",
    "    word_Len_prob=word_Len_Freq[:,1]/np.sum(word_Len_Freq[:,1])\n",
    "    word_Len_prob,word_Len_Freq[:,0]\n",
    "#probabilty distribution of stories \n",
    "    plt.bar(word_Len_Freq[:,0],word_Len_prob,color='black')\n",
    "    plt.xlabel(\"Word Length(x)\")\n",
    "    plt.ylabel(\"Probability,P(x)\")\n",
    "    plt.title(\"Probability distribution\"+Title)\n",
    "    return word_Len_prob\n",
    "\n",
    "#probability distribution for given data\n",
    "word=word_list('generated_words_given.txt')\n",
    "word_Len_Given=probability_distribution(word,' For given')\n",
    "\n",
    "\n"
   ]
  },
  {
   "cell_type": "code",
   "execution_count": 23,
   "metadata": {},
   "outputs": [
    {
     "data": {
      "image/png": "[encoded data removed]",
      "text/plain": [
       "<Figure size 432x288 with 1 Axes>"
      ]
     },
     "metadata": {
      "needs_background": "light"
     },
     "output_type": "display_data"
    }
   ],
   "source": [
    "#probability distribution for generated from stories\n",
    "word=word_list('generated_words.txt') \n",
    "word_Len_Gen=probability_distribution(word,' for Generated')"
   ]
  },
  {
   "cell_type": "code",
   "execution_count": 24,
   "metadata": {},
   "outputs": [
    {
     "data": {
      "image/png": "[encoded data removed]",
      "text/plain": [
       "<Figure size 576x432 with 1 Axes>"
      ]
     },
     "metadata": {
      "needs_background": "light"
     },
     "output_type": "display_data"
    }
   ],
   "source": [
    "#CDF plot for \n",
    "cdf_stories= np.cumsum(word_Len_prob)\n",
    "cdf_given= np.cumsum(word_Len_Given)\n",
    "cdf_gen= np.cumsum(word_Len_Gen)\n",
    "plt.figure(figsize=(8,6))\n",
    "plt.plot(cdf_stories,c='green', label='Stories',marker='o')\n",
    "plt.plot(cdf_given,c='blue', label='Given',marker='o')\n",
    "plt.plot(cdf_gen,c='red', label='Generated',marker='o')\n",
    "plt.grid()\n",
    "plt.xlabel(\"Word Length\")\n",
    "plt.ylabel(\"Cummulative Distribution Function\")\n",
    "plt.title(\"CDF\")\n",
    "plt.legend()\n",
    "plt.show()\n"
   ]
  },
  {
   "cell_type": "code",
   "execution_count": 9,
   "metadata": {},
   "outputs": [
    {
     "name": "stdout",
     "output_type": "stream",
     "text": [
      "KS test value for provided probability is : 0.3948836696438417\n",
      "KS test value for provided data is : 0.45272518534373724\n"
     ]
    }
   ],
   "source": [
    "ks=[]\n",
    "for i in range(len(cdf_given)):\n",
    "    ks.append(cdf_given[i]-cdf_stories[i])\n",
    "print('KS test value for provided probability is :',np.max(ks))\n",
    "ks=[]\n",
    "for i in range(len(cdf_gen)):\n",
    "    ks.append(cdf_gen[i]-cdf_stories[i])\n",
    "print('KS test value for provided data is :',np.max(ks))"
   ]
  },
  {
   "cell_type": "code",
   "execution_count": null,
   "metadata": {},
   "outputs": [],
   "source": []
  }
 ],
 "metadata": {
  "kernelspec": {
   "display_name": "Python 3",
   "language": "python",
   "name": "python3"
  },
  "language_info": {
   "codemirror_mode": {
    "name": "ipython",
    "version": 3
   },
   "file_extension": ".py",
   "mimetype": "text/x-python",
   "name": "python",
   "nbconvert_exporter": "python",
   "pygments_lexer": "ipython3",
   "version": "3.8.10"
  },
  "toc": {
   "base_numbering": 1,
   "nav_menu": {},
   "number_sections": true,
   "sideBar": true,
   "skip_h1_title": false,
   "title_cell": "Table of Contents",
   "title_sidebar": "Contents",
   "toc_cell": false,
   "toc_position": {},
   "toc_section_display": true,
   "toc_window_display": false
  },
  "varInspector": {
   "cols": {
    "lenName": 16,
    "lenType": 16,
    "lenVar": 40
   },
   "kernels_config": {
    "python": {
     "delete_cmd_postfix": "",
     "delete_cmd_prefix": "del ",
     "library": "var_list.py",
     "varRefreshCmd": "print(var_dic_list())"
    },
    "r": {
     "delete_cmd_postfix": ") ",
     "delete_cmd_prefix": "rm(",
     "library": "var_list.r",
     "varRefreshCmd": "cat(var_dic_list()) "
    }
   },
   "types_to_exclude": [
    "module",
    "function",
    "builtin_function_or_method",
    "instance",
    "_Feature"
   ],
   "window_display": false
  }
 },
 "nbformat": 4,
 "nbformat_minor": 4
}
