{
 "cells": [
  {
   "cell_type": "code",
   "execution_count": 5,
   "metadata": {},
   "outputs": [],
   "source": [
    "# Basic Web crawling python code"
   ]
  },
  {
   "cell_type": "code",
   "execution_count": 2,
   "metadata": {},
   "outputs": [
    {
     "name": "stdout",
     "output_type": "stream",
     "text": [
      "Time taken to crawl in sec: 2.186415910720825\n"
     ]
    }
   ],
   "source": [
    "import pandas as pd\n",
    "import matplotlib.pyplot as plt\n",
    "import re\n",
    "import urllib.request\n",
    "from bs4 import BeautifulSoup\n",
    "import time \n",
    "\n",
    "start_time = time.time()\n",
    "\n",
    "url = \"http://quotes.toscrape.com/page/\"\n",
    "page_no = 1\n",
    "# print(url)\n",
    "\n",
    "quotes_list = []\n",
    "author_list = []\n",
    "tag_list = []\n",
    "page_list = []\n",
    "while page_no < 50:\n",
    "    \n",
    "    req = urllib.request.Request(url + str(page_no))\n",
    "    page = urllib.request.urlopen(req).read()\n",
    "    soup = BeautifulSoup(page, 'html.parser')\n",
    "    \n",
    "    #crawling stops when no quotes available \n",
    "    No_Quotes=soup.find_all(class_= \"col-md-8\")\n",
    "    to_break=''\n",
    "    for y in No_Quotes:\n",
    "        if \"No quotes found!\" in y.text:\n",
    "            to_break =\"break\"\n",
    "    if to_break ==\"break\":\n",
    "        break\n",
    "    \n",
    "    for quote in soup.find_all(class_=\"quote\"):\n",
    "        \n",
    "        # extracting quotes\n",
    "        quotes_list.append(quote.find(class_=\"text\").get_text())\n",
    "\n",
    "        # extracting author\n",
    "        author_list.append(quote.find(class_=\"author\").get_text())\n",
    "       \n",
    "        \n",
    "        # extracting tags\n",
    "        tags = quote.find_all(\"a\", {\"class\": \"tag\"})\n",
    "        temp_tag = []\n",
    "        for tag in tags:\n",
    "            temp_tag.append(tag.text)\n",
    "        tag_list.append(temp_tag)\n",
    "        # creating page list\n",
    "        page_list.append(str(page_no))\n",
    "        \n",
    "    page_no += 1\n",
    "    \n",
    "#calculating time \n",
    "elapsed_time= time.time() - start_time\n",
    "print(\"Time taken to crawl in sec:\",elapsed_time)\n"
   ]
  },
  {
   "cell_type": "code",
   "execution_count": 3,
   "metadata": {},
   "outputs": [
    {
     "data": {
      "text/html": [
       "<div>\n",
       "<style scoped>\n",
       "    .dataframe tbody tr th:only-of-type {\n",
       "        vertical-align: middle;\n",
       "    }\n",
       "\n",
       "    .dataframe tbody tr th {\n",
       "        vertical-align: top;\n",
       "    }\n",
       "\n",
       "    .dataframe thead th {\n",
       "        text-align: right;\n",
       "    }\n",
       "</style>\n",
       "<table border=\"1\" class=\"dataframe\">\n",
       "  <thead>\n",
       "    <tr style=\"text-align: right;\">\n",
       "      <th></th>\n",
       "      <th>Page_Number</th>\n",
       "      <th>Quotes</th>\n",
       "      <th>Author</th>\n",
       "      <th>Tags</th>\n",
       "    </tr>\n",
       "  </thead>\n",
       "  <tbody>\n",
       "    <tr>\n",
       "      <td>0</td>\n",
       "      <td>1</td>\n",
       "      <td>“The world as we have created it is a process ...</td>\n",
       "      <td>Albert Einstein</td>\n",
       "      <td>[change, deep-thoughts, thinking, world]</td>\n",
       "    </tr>\n",
       "    <tr>\n",
       "      <td>1</td>\n",
       "      <td>1</td>\n",
       "      <td>“It is our choices, Harry, that show what we t...</td>\n",
       "      <td>J.K. Rowling</td>\n",
       "      <td>[abilities, choices]</td>\n",
       "    </tr>\n",
       "    <tr>\n",
       "      <td>2</td>\n",
       "      <td>1</td>\n",
       "      <td>“There are only two ways to live your life. On...</td>\n",
       "      <td>Albert Einstein</td>\n",
       "      <td>[inspirational, life, live, miracle, miracles]</td>\n",
       "    </tr>\n",
       "    <tr>\n",
       "      <td>3</td>\n",
       "      <td>1</td>\n",
       "      <td>“The person, be it gentleman or lady, who has ...</td>\n",
       "      <td>Jane Austen</td>\n",
       "      <td>[aliteracy, books, classic, humor]</td>\n",
       "    </tr>\n",
       "    <tr>\n",
       "      <td>4</td>\n",
       "      <td>1</td>\n",
       "      <td>“Imperfection is beauty, madness is genius and...</td>\n",
       "      <td>Marilyn Monroe</td>\n",
       "      <td>[be-yourself, inspirational]</td>\n",
       "    </tr>\n",
       "    <tr>\n",
       "      <td>...</td>\n",
       "      <td>...</td>\n",
       "      <td>...</td>\n",
       "      <td>...</td>\n",
       "      <td>...</td>\n",
       "    </tr>\n",
       "    <tr>\n",
       "      <td>95</td>\n",
       "      <td>10</td>\n",
       "      <td>“You never really understand a person until yo...</td>\n",
       "      <td>Harper Lee</td>\n",
       "      <td>[better-life-empathy]</td>\n",
       "    </tr>\n",
       "    <tr>\n",
       "      <td>96</td>\n",
       "      <td>10</td>\n",
       "      <td>“You have to write the book that wants to be w...</td>\n",
       "      <td>Madeleine L'Engle</td>\n",
       "      <td>[books, children, difficult, grown-ups, write,...</td>\n",
       "    </tr>\n",
       "    <tr>\n",
       "      <td>97</td>\n",
       "      <td>10</td>\n",
       "      <td>“Never tell the truth to people who are not wo...</td>\n",
       "      <td>Mark Twain</td>\n",
       "      <td>[truth]</td>\n",
       "    </tr>\n",
       "    <tr>\n",
       "      <td>98</td>\n",
       "      <td>10</td>\n",
       "      <td>“A person's a person, no matter how small.”</td>\n",
       "      <td>Dr. Seuss</td>\n",
       "      <td>[inspirational]</td>\n",
       "    </tr>\n",
       "    <tr>\n",
       "      <td>99</td>\n",
       "      <td>10</td>\n",
       "      <td>“... a mind needs books as a sword needs a whe...</td>\n",
       "      <td>George R.R. Martin</td>\n",
       "      <td>[books, mind]</td>\n",
       "    </tr>\n",
       "  </tbody>\n",
       "</table>\n",
       "<p>100 rows × 4 columns</p>\n",
       "</div>"
      ],
      "text/plain": [
       "    Page_Number                                             Quotes  \\\n",
       "0             1  “The world as we have created it is a process ...   \n",
       "1             1  “It is our choices, Harry, that show what we t...   \n",
       "2             1  “There are only two ways to live your life. On...   \n",
       "3             1  “The person, be it gentleman or lady, who has ...   \n",
       "4             1  “Imperfection is beauty, madness is genius and...   \n",
       "..          ...                                                ...   \n",
       "95           10  “You never really understand a person until yo...   \n",
       "96           10  “You have to write the book that wants to be w...   \n",
       "97           10  “Never tell the truth to people who are not wo...   \n",
       "98           10        “A person's a person, no matter how small.”   \n",
       "99           10  “... a mind needs books as a sword needs a whe...   \n",
       "\n",
       "                Author                                               Tags  \n",
       "0      Albert Einstein           [change, deep-thoughts, thinking, world]  \n",
       "1         J.K. Rowling                               [abilities, choices]  \n",
       "2      Albert Einstein     [inspirational, life, live, miracle, miracles]  \n",
       "3          Jane Austen                 [aliteracy, books, classic, humor]  \n",
       "4       Marilyn Monroe                       [be-yourself, inspirational]  \n",
       "..                 ...                                                ...  \n",
       "95          Harper Lee                              [better-life-empathy]  \n",
       "96   Madeleine L'Engle  [books, children, difficult, grown-ups, write,...  \n",
       "97          Mark Twain                                            [truth]  \n",
       "98           Dr. Seuss                                    [inspirational]  \n",
       "99  George R.R. Martin                                      [books, mind]  \n",
       "\n",
       "[100 rows x 4 columns]"
      ]
     },
     "execution_count": 3,
     "metadata": {},
     "output_type": "execute_result"
    }
   ],
   "source": [
    "#creating dataframe\n",
    "zipped_Data= list(zip(page_list,quotes_list,author_list,tag_list))\n",
    "quotes_DF= pd.DataFrame(zipped_Data,columns=['Page_Number','Quotes','Author','Tags'])\n",
    "quotes_DF = quotes_DF.astype(dtype= {\"Page_Number\":\"int64\", \"Quotes\":\"str\",\"Author\":\"str\",'Tags':'object'})\n",
    "quotes_DF"
   ]
  },
  {
   "cell_type": "code",
   "execution_count": 4,
   "metadata": {},
   "outputs": [
    {
     "name": "stdout",
     "output_type": "stream",
     "text": [
      "total Number of valid pages crawled: 10\n"
     ]
    }
   ],
   "source": [
    "#total Number of valid pages crawled \n",
    "print(\"total Number of valid pages crawled:\",max(quotes_DF.Page_Number))\n"
   ]
  },
  {
   "cell_type": "code",
   "execution_count": 5,
   "metadata": {},
   "outputs": [
    {
     "data": {
      "text/plain": [
       "Text(0.5, 1.0, 'Frequency distribution Quotes per author')"
      ]
     },
     "execution_count": 5,
     "metadata": {},
     "output_type": "execute_result"
    },
    {
     "data": {
      "image/png": "[encoded data removed]",
      "text/plain": [
       "<Figure size 576x432 with 1 Axes>"
      ]
     },
     "metadata": {
      "needs_background": "light"
     },
     "output_type": "display_data"
    }
   ],
   "source": [
    "#provide frequency distribution of number of quotes per author \n",
    "freq_Author=quotes_DF.groupby('Author').nunique()\n",
    "plt.figure(figsize=[8,6])\n",
    "plt.hist(freq_Author['Quotes'], facecolor='blue',bins=20)\n",
    "plt.xlabel(\"Number of Quotes\")\n",
    "plt.ylabel(\"Frequency of Author\")\n",
    "plt.title('Frequency distribution Quotes per author')\n"
   ]
  },
  {
   "cell_type": "code",
   "execution_count": 17,
   "metadata": {},
   "outputs": [
    {
     "data": {
      "text/plain": [
       "Text(0.5, 1.0, 'Frequency distribution of tags')"
      ]
     },
     "execution_count": 17,
     "metadata": {},
     "output_type": "execute_result"
    },
    {
     "data": {
      "image/png": "[encoded data removed]",
      "text/plain": [
       "<Figure size 576x432 with 1 Axes>"
      ]
     },
     "metadata": {
      "needs_background": "light"
     },
     "output_type": "display_data"
    }
   ],
   "source": [
    "#Provide Frequency Distribution of tags\n",
    "x=quotes_DF['Tags']\n",
    "list_tags=[]\n",
    "for row in x:\n",
    "    for item in row:\n",
    "        list_tags.append(item)\n",
    "\n",
    "list_tags_DF= pd.DataFrame(list_tags,columns=['Tags'])    \n",
    "list_tags_DF.groupby('Tags').size()\n",
    "plt.figure(figsize=[8,6])\n",
    "plt.hist(list_tags_DF.groupby('Tags').size(),bins=20,facecolor='blue')\n",
    "plt.xlabel(\"Number of tags \")\n",
    "plt.ylabel(\"Frequency of Tags\")\n",
    "plt.title('Frequency distribution of Tags')\n"
   ]
  },
  {
   "cell_type": "code",
   "execution_count": 27,
   "metadata": {},
   "outputs": [
    {
     "data": {
      "text/html": [
       "<div>\n",
       "<style scoped>\n",
       "    .dataframe tbody tr th:only-of-type {\n",
       "        vertical-align: middle;\n",
       "    }\n",
       "\n",
       "    .dataframe tbody tr th {\n",
       "        vertical-align: top;\n",
       "    }\n",
       "\n",
       "    .dataframe thead th {\n",
       "        text-align: right;\n",
       "    }\n",
       "</style>\n",
       "<table border=\"1\" class=\"dataframe\">\n",
       "  <thead>\n",
       "    <tr style=\"text-align: right;\">\n",
       "      <th></th>\n",
       "      <th>Page_Number</th>\n",
       "      <th>Quotes</th>\n",
       "      <th>Author</th>\n",
       "      <th>Tags</th>\n",
       "      <th>no_of_words</th>\n",
       "    </tr>\n",
       "  </thead>\n",
       "  <tbody>\n",
       "    <tr>\n",
       "      <td>0</td>\n",
       "      <td>1</td>\n",
       "      <td>“The world as we have created it is a process ...</td>\n",
       "      <td>Albert Einstein</td>\n",
       "      <td>[change, deep-thoughts, thinking, world]</td>\n",
       "      <td>21</td>\n",
       "    </tr>\n",
       "    <tr>\n",
       "      <td>1</td>\n",
       "      <td>1</td>\n",
       "      <td>“It is our choices, Harry, that show what we t...</td>\n",
       "      <td>J.K. Rowling</td>\n",
       "      <td>[abilities, choices]</td>\n",
       "      <td>16</td>\n",
       "    </tr>\n",
       "    <tr>\n",
       "      <td>2</td>\n",
       "      <td>1</td>\n",
       "      <td>“There are only two ways to live your life. On...</td>\n",
       "      <td>Albert Einstein</td>\n",
       "      <td>[inspirational, life, live, miracle, miracles]</td>\n",
       "      <td>26</td>\n",
       "    </tr>\n",
       "    <tr>\n",
       "      <td>3</td>\n",
       "      <td>1</td>\n",
       "      <td>“The person, be it gentleman or lady, who has ...</td>\n",
       "      <td>Jane Austen</td>\n",
       "      <td>[aliteracy, books, classic, humor]</td>\n",
       "      <td>19</td>\n",
       "    </tr>\n",
       "    <tr>\n",
       "      <td>4</td>\n",
       "      <td>1</td>\n",
       "      <td>“Imperfection is beauty, madness is genius and...</td>\n",
       "      <td>Marilyn Monroe</td>\n",
       "      <td>[be-yourself, inspirational]</td>\n",
       "      <td>16</td>\n",
       "    </tr>\n",
       "    <tr>\n",
       "      <td>...</td>\n",
       "      <td>...</td>\n",
       "      <td>...</td>\n",
       "      <td>...</td>\n",
       "      <td>...</td>\n",
       "      <td>...</td>\n",
       "    </tr>\n",
       "    <tr>\n",
       "      <td>95</td>\n",
       "      <td>10</td>\n",
       "      <td>“You never really understand a person until yo...</td>\n",
       "      <td>Harper Lee</td>\n",
       "      <td>[better-life-empathy]</td>\n",
       "      <td>27</td>\n",
       "    </tr>\n",
       "    <tr>\n",
       "      <td>96</td>\n",
       "      <td>10</td>\n",
       "      <td>“You have to write the book that wants to be w...</td>\n",
       "      <td>Madeleine L'Engle</td>\n",
       "      <td>[books, children, difficult, grown-ups, write,...</td>\n",
       "      <td>27</td>\n",
       "    </tr>\n",
       "    <tr>\n",
       "      <td>97</td>\n",
       "      <td>10</td>\n",
       "      <td>“Never tell the truth to people who are not wo...</td>\n",
       "      <td>Mark Twain</td>\n",
       "      <td>[truth]</td>\n",
       "      <td>12</td>\n",
       "    </tr>\n",
       "    <tr>\n",
       "      <td>98</td>\n",
       "      <td>10</td>\n",
       "      <td>“A person's a person, no matter how small.”</td>\n",
       "      <td>Dr. Seuss</td>\n",
       "      <td>[inspirational]</td>\n",
       "      <td>8</td>\n",
       "    </tr>\n",
       "    <tr>\n",
       "      <td>99</td>\n",
       "      <td>10</td>\n",
       "      <td>“... a mind needs books as a sword needs a whe...</td>\n",
       "      <td>George R.R. Martin</td>\n",
       "      <td>[books, mind]</td>\n",
       "      <td>18</td>\n",
       "    </tr>\n",
       "  </tbody>\n",
       "</table>\n",
       "<p>100 rows × 5 columns</p>\n",
       "</div>"
      ],
      "text/plain": [
       "    Page_Number                                             Quotes  \\\n",
       "0             1  “The world as we have created it is a process ...   \n",
       "1             1  “It is our choices, Harry, that show what we t...   \n",
       "2             1  “There are only two ways to live your life. On...   \n",
       "3             1  “The person, be it gentleman or lady, who has ...   \n",
       "4             1  “Imperfection is beauty, madness is genius and...   \n",
       "..          ...                                                ...   \n",
       "95           10  “You never really understand a person until yo...   \n",
       "96           10  “You have to write the book that wants to be w...   \n",
       "97           10  “Never tell the truth to people who are not wo...   \n",
       "98           10        “A person's a person, no matter how small.”   \n",
       "99           10  “... a mind needs books as a sword needs a whe...   \n",
       "\n",
       "                Author                                               Tags  \\\n",
       "0      Albert Einstein           [change, deep-thoughts, thinking, world]   \n",
       "1         J.K. Rowling                               [abilities, choices]   \n",
       "2      Albert Einstein     [inspirational, life, live, miracle, miracles]   \n",
       "3          Jane Austen                 [aliteracy, books, classic, humor]   \n",
       "4       Marilyn Monroe                       [be-yourself, inspirational]   \n",
       "..                 ...                                                ...   \n",
       "95          Harper Lee                              [better-life-empathy]   \n",
       "96   Madeleine L'Engle  [books, children, difficult, grown-ups, write,...   \n",
       "97          Mark Twain                                            [truth]   \n",
       "98           Dr. Seuss                                    [inspirational]   \n",
       "99  George R.R. Martin                                      [books, mind]   \n",
       "\n",
       "    no_of_words  \n",
       "0            21  \n",
       "1            16  \n",
       "2            26  \n",
       "3            19  \n",
       "4            16  \n",
       "..          ...  \n",
       "95           27  \n",
       "96           27  \n",
       "97           12  \n",
       "98            8  \n",
       "99           18  \n",
       "\n",
       "[100 rows x 5 columns]"
      ]
     },
     "execution_count": 27,
     "metadata": {},
     "output_type": "execute_result"
    }
   ],
   "source": [
    "#plot average number of quotes(no. of words) per author\n",
    "quotes_DF['no_of_words']=list(map(lambda x : len(x.split()),quotes_DF.iloc[:,1]))\n",
    "quotes_DF"
   ]
  },
  {
   "cell_type": "code",
   "execution_count": 78,
   "metadata": {},
   "outputs": [
    {
     "data": {
      "text/plain": [
       "Text(0.5, 1.0, 'Frequency distribution average words per author')"
      ]
     },
     "execution_count": 78,
     "metadata": {},
     "output_type": "execute_result"
    },
    {
     "data": {
      "image/png": "[encoded data removed]",
      "text/plain": [
       "<Figure size 1080x432 with 1 Axes>"
      ]
     },
     "metadata": {
      "needs_background": "light"
     },
     "output_type": "display_data"
    }
   ],
   "source": [
    "df_no_of_words=quotes_DF.groupby(['Author']).mean()\n",
    "plt.figure(figsize=[15,6])\n",
    "plt.hist(df_no_of_words['no_of_words'], facecolor='blue',bins=100)\n",
    "plt.xlabel(\"Number of words\")\n",
    "plt.ylabel(\"Frequency of Author\")\n",
    "plt.title('Frequency distribution average words per author')\n"
   ]
  }
 ],
 "metadata": {
  "kernelspec": {
   "display_name": "Python 3",
   "language": "python",
   "name": "python3"
  },
  "language_info": {
   "codemirror_mode": {
    "name": "ipython",
    "version": 3
   },
   "file_extension": ".py",
   "mimetype": "text/x-python",
   "name": "python",
   "nbconvert_exporter": "python",
   "pygments_lexer": "ipython3",
   "version": "3.8.10"
  },
  "toc": {
   "base_numbering": 1,
   "nav_menu": {},
   "number_sections": true,
   "sideBar": true,
   "skip_h1_title": false,
   "title_cell": "Table of Contents",
   "title_sidebar": "Contents",
   "toc_cell": false,
   "toc_position": {},
   "toc_section_display": true,
   "toc_window_display": false
  },
  "varInspector": {
   "cols": {
    "lenName": 16,
    "lenType": 16,
    "lenVar": 40
   },
   "kernels_config": {
    "python": {
     "delete_cmd_postfix": "",
     "delete_cmd_prefix": "del ",
     "library": "var_list.py",
     "varRefreshCmd": "print(var_dic_list())"
    },
    "r": {
     "delete_cmd_postfix": ") ",
     "delete_cmd_prefix": "rm(",
     "library": "var_list.r",
     "varRefreshCmd": "cat(var_dic_list()) "
    }
   },
   "types_to_exclude": [
    "module",
    "function",
    "builtin_function_or_method",
    "instance",
    "_Feature"
   ],
   "window_display": false
  }
 },
 "nbformat": 4,
 "nbformat_minor": 4
}
