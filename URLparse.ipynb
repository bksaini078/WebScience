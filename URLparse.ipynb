{
 "cells": [
  {
   "cell_type": "markdown",
   "metadata": {},
   "source": [
    "# URL Parsing and simple server client program in python "
   ]
  },
  {
   "cell_type": "code",
   "execution_count": 1,
   "metadata": {},
   "outputs": [
    {
     "name": "stdout",
     "output_type": "stream",
     "text": [
      "4\n",
      "4\n",
      "{\"NetLocation\": \"www.google.uk:1000\", \"Path\": \"/path/to/myfile.html\", \"Port_Number\": \"1000\", \"Protocol\": \"http\", \"Scheme\": \"http\"}\n"
     ]
    },
    {
     "data": {
      "text/plain": [
       "{'NetLocation': 'www.google.uk:1000',\n",
       " 'Path': '/path/to/myfile.html',\n",
       " 'Port_Number': '1000',\n",
       " 'Protocol': 'http',\n",
       " 'Scheme': 'http'}"
      ]
     },
     "execution_count": 1,
     "metadata": {},
     "output_type": "execute_result"
    }
   ],
   "source": [
    "import json\n",
    "def urlparser(url):\n",
    "    url_Dict = {\n",
    "  \"Scheme\": \"\",\n",
    "  \"Protocol\": \"\",\n",
    "  \"NetLocation\": \"\",\n",
    "  \"Port_Number\":\"\",\n",
    "    \"Path\":\"\",}\n",
    "  \n",
    "    split1= url.split(\"://\")\n",
    "    url_Dict['Protocol']= split1[0]\n",
    "    url_Dict['Scheme']= split1[0]\n",
    "    split2= split1[1].split(\"/\")\n",
    "    url_Dict['NetLocation']=split2[0]\n",
    "    print(len(split2))\n",
    "    if \":\" in split2[0]:\n",
    "        url_Dict['Port_Number']=split2[0].split(\":\")[1]\n",
    "    split1.remove(url_Dict['Protocol'])\n",
    "    split3=split1[0].replace(url_Dict['NetLocation'],\"\")\n",
    "    url_Dict[\"Path\"]= split3.split(\"?\")[0]\n",
    "#     print(url_Dict)\n",
    "    return url_Dict\n",
    "\n",
    "\n",
    "urlD= urlparser(\"http://www.google.uk:1000/path/to/myfile.html?key1=value1&key2=value2# InTheDocument'\")\n",
    "urlD1=urlparser(\"https://www.overleaf.com/9565720ckjijuhzpbccsd#/347876331/\")\n",
    "Message_json = json.dumps(urlD, sort_keys=True)\n",
    "print(Message_json)\n",
    "Message_dict= json.loads(Message_json)\n",
    "Message_dict"
   ]
  },
  {
   "cell_type": "code",
   "execution_count": null,
   "metadata": {},
   "outputs": [
    {
     "name": "stdout",
     "output_type": "stream",
     "text": [
      "Socket successfully created\n",
      "socket binded to 14005\n",
      "socket is listening\n"
     ]
    }
   ],
   "source": [
    "#server\n",
    "import socket\n",
    "import json\n",
    "\n",
    "# next create a socket object\n",
    "s = socket.socket()\n",
    "print(\"Socket successfully created\")\n",
    "BUFFER_SIZE = 1024\n",
    "#defining port number \n",
    "port = 14005\n",
    "#binding with the port number \n",
    "s.bind(('', port))\n",
    "\n",
    "print(\"socket binded to %s\" % (port))\n",
    "\n",
    "# put the socket into listening mode\n",
    "s.listen(5)\n",
    "print(\"socket is listening\")\n",
    "\n",
    "for x in range(5):\n",
    "    # Establish connection with client.\n",
    "    c, addr = s.accept()\n",
    "    print('Got connection from',addr)\n",
    "    #receiving message from the client \n",
    "    data=c.recvmsg(BUFFER_SIZE)\n",
    "    data_dict= json.load(str(data))\n",
    "    print(data_dict)\n",
    "\n",
    "c.close()\n"
   ]
  },
  {
   "cell_type": "code",
   "execution_count": null,
   "metadata": {},
   "outputs": [],
   "source": [
    "#Client \n",
    "import socket\n",
    "TCP_IP = '127.0.0.1'\n",
    "TCP_PORT = 14004\n",
    "BUFFER_SIZE = 1024\n",
    "print(Message_json)\n",
    "# print(type(Message_json))\n",
    "message = str.encode(Message_json)\n",
    "# print(type(message))\n",
    "s = socket.socket(socket.AF_INET, socket.SOCK_STREAM)\n",
    "s.connect((TCP_IP, TCP_PORT))\n",
    "s.send(message)\n",
    "\n",
    "\n",
    "for x in range(300):\n",
    "    data = s.recv(BUFFER_SIZE)\n",
    "    print(\"received data:\", data)\n",
    "    time.sleep(1)\n",
    "\n",
    "\n",
    "s.close()\n"
   ]
  },
  {
   "cell_type": "code",
   "execution_count": null,
   "metadata": {},
   "outputs": [],
   "source": []
  },
  {
   "cell_type": "code",
   "execution_count": null,
   "metadata": {},
   "outputs": [],
   "source": []
  }
 ],
 "metadata": {
  "kernelspec": {
   "display_name": "Python 3",
   "language": "python",
   "name": "python3"
  },
  "language_info": {
   "codemirror_mode": {
    "name": "ipython",
    "version": 3
   },
   "file_extension": ".py",
   "mimetype": "text/x-python",
   "name": "python",
   "nbconvert_exporter": "python",
   "pygments_lexer": "ipython3",
   "version": "3.8.10"
  }
 },
 "nbformat": 4,
 "nbformat_minor": 4
}
